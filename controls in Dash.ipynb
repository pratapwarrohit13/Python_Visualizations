{
 "cells": [
  {
   "cell_type": "code",
   "execution_count": 1,
   "id": "sized-austria",
   "metadata": {},
   "outputs": [],
   "source": [
    "import dash\n",
    "import dash_core_components as dcc\n",
    "import dash_html_components as html\n",
    "import plotly.graph_objs as go"
   ]
  },
  {
   "cell_type": "code",
   "execution_count": 2,
   "id": "scheduled-layout",
   "metadata": {},
   "outputs": [],
   "source": [
    "app = dash.Dash()"
   ]
  },
  {
   "cell_type": "code",
   "execution_count": 7,
   "id": "cardiac-electronics",
   "metadata": {},
   "outputs": [],
   "source": [
    "app.layout = html.Div([\n",
    "    \n",
    "    html.Br(),\n",
    "    html.Br(),\n",
    "    html.Label('Choose City'),\n",
    "    dcc.Dropdown(\n",
    "        id = 'first-dropdown',\n",
    "        options = [\n",
    "            {'label':'San Fransico', 'value':'SF'},\n",
    "            {'label':'New York City', 'value':'NYC'},\n",
    "            {'label':'Releigh Durhan', 'value':'RDU', 'disabled':True}\n",
    "        ],\n",
    "        placeholder = 'Select a City' \n",
    "        ),\n",
    "    html.Br(),\n",
    "    html.Br(),\n",
    "    html.Label('This is Slider'),\n",
    "    dcc.Slider(\n",
    "        min = 1,\n",
    "        max = 10,\n",
    "        value =1,\n",
    "        step=.5,\n",
    "        marks = {i: i for i in range(10)}\n",
    "        ),\n",
    "    html.Br(),\n",
    "    html.Br(),\n",
    "    html.Label('This is Range Slider'),\n",
    "    dcc.RangeSlider(\n",
    "        min=1,\n",
    "        max = 10,\n",
    "        step=.5,\n",
    "        value = [3,7],\n",
    "        marks = {i:i  for i in range(10)}\n",
    "    ),\n",
    "    \n",
    "    html.Br(),\n",
    "    html.Br(),\n",
    "    \n",
    "        html.Label('This is Input Box'),\n",
    "        dcc.Input(      \n",
    "            placeholder=  'Input your name',\n",
    "            type ='text', \n",
    "            value = ''\n",
    "        ),\n",
    "    html.Br(),\n",
    "    html.Br(),\n",
    "    dcc.Textarea(\n",
    "        placeholder= 'Input Your Feedback',\n",
    "        value = 'Placeholder for Text',\n",
    "        style = {'width':'100%'},\n",
    "    ),\n",
    "    html.Br(),\n",
    "    html.Br(),\n",
    "    dcc.Checklist(\n",
    "    \n",
    "        options = [\n",
    "            {'label':'San Fransico','value':'SF'},\n",
    "            {'label':'New York City','value':'NYC'},\n",
    "            {'label':'Raleigh Durhm','value':'RDU','disabled':True}\n",
    "        ],\n",
    "        value = ['SF','NYC']\n",
    "        \n",
    "    ),\n",
    "    html.Br(),\n",
    "    html.Br(),\n",
    "    dcc.RadioItems(\n",
    "        options = [\n",
    "            {'label':'San Fransico','value':'SF'},\n",
    "            {'label':'New York City','value':'NYC'},\n",
    "            {'label':'Raleigh Durhm','value':'RDU'}\n",
    "        ],\n",
    "        value = 'SF'\n",
    "\n",
    "    ),\n",
    "    html.Br(),\n",
    "    html.Br(),\n",
    "    html.Button('Submit',id='Submit-form'),\n",
    "    html.Br(),\n",
    "    html.Br(),\n",
    "    dcc.DatePickerSingle(\n",
    "        \n",
    "        id ='dt-pick-single',\n",
    "        date=(2015,5,10)\n",
    "        ),\n",
    "    html.Br(),\n",
    "    html.Br(),\n",
    "    dcc.DatePickerRange(\n",
    "        id = 'dt-pick-range',\n",
    "        start_date = (2020,1,1),\n",
    "        end_date_placeholder_text = 'Select the End Date'\n",
    "        ),\n",
    "    html.Br(),\n",
    "    html.Br(),\n",
    "    dcc.Markdown(\n",
    "    '''\n",
    "    #### Dash Markdown\n",
    "    \n",
    "    Dash supports [Markdown](http://commonmark.org/help).\n",
    "    \n",
    "    Markdown is a simple way to write and format text.\n",
    "    It includes a syntax for things like **bold text** and *Italic*,\n",
    "    [links](http://commonmark.org/help), inline 'code' snippets, lists,\n",
    "    quotes and more\n",
    "    \n",
    "    '''\n",
    "    )\n",
    "    \n",
    "])"
   ]
  },
  {
   "cell_type": "code",
   "execution_count": 8,
   "id": "infrared-conditions",
   "metadata": {},
   "outputs": [
    {
     "name": "stdout",
     "output_type": "stream",
     "text": [
      "Dash is running on http://127.0.0.1:8050/\n",
      "\n",
      " * Serving Flask app \"__main__\" (lazy loading)\n",
      " * Environment: production\n",
      "   WARNING: This is a development server. Do not use it in a production deployment.\n",
      "   Use a production WSGI server instead.\n",
      " * Debug mode: off\n"
     ]
    },
    {
     "name": "stderr",
     "output_type": "stream",
     "text": [
      " * Running on http://127.0.0.1:8050/ (Press CTRL+C to quit)\n",
      "127.0.0.1 - - [30/Mar/2021 18:43:09] \"\u001b[37mGET / HTTP/1.1\u001b[0m\" 200 -\n",
      "127.0.0.1 - - [30/Mar/2021 18:43:10] \"\u001b[37mGET /_dash-layout HTTP/1.1\u001b[0m\" 200 -\n",
      "127.0.0.1 - - [30/Mar/2021 18:43:10] \"\u001b[37mGET /_dash-dependencies HTTP/1.1\u001b[0m\" 200 -\n"
     ]
    }
   ],
   "source": [
    "if __name__ == '__main__':\n",
    "    app.run_server()"
   ]
  },
  {
   "cell_type": "code",
   "execution_count": null,
   "id": "conditional-mauritius",
   "metadata": {},
   "outputs": [],
   "source": []
  }
 ],
 "metadata": {
  "kernelspec": {
   "display_name": "Python 3",
   "language": "python",
   "name": "python3"
  },
  "language_info": {
   "codemirror_mode": {
    "name": "ipython",
    "version": 3
   },
   "file_extension": ".py",
   "mimetype": "text/x-python",
   "name": "python",
   "nbconvert_exporter": "python",
   "pygments_lexer": "ipython3",
   "version": "3.7.9"
  }
 },
 "nbformat": 4,
 "nbformat_minor": 5
}
