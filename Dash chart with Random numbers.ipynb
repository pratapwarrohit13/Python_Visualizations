{
 "cells": [
  {
   "cell_type": "code",
   "execution_count": 4,
   "id": "prompt-latvia",
   "metadata": {},
   "outputs": [],
   "source": [
    "import dash\n",
    "import dash_core_components as dcc\n",
    "import dash_html_components as html\n",
    "import plotly.graph_objs as go\n",
    "import numpy as np"
   ]
  },
  {
   "cell_type": "code",
   "execution_count": 2,
   "id": "empirical-checkout",
   "metadata": {},
   "outputs": [],
   "source": [
    "app = dash.Dash()"
   ]
  },
  {
   "cell_type": "code",
   "execution_count": 3,
   "id": "assured-bachelor",
   "metadata": {},
   "outputs": [],
   "source": [
    "np.random.seed(50)\n",
    "x_rand = np.random.randint(1,61,60)\n",
    "y_rand = np.random.randint(1,61,60)"
   ]
  },
  {
   "cell_type": "code",
   "execution_count": 6,
   "id": "endangered-still",
   "metadata": {},
   "outputs": [],
   "source": [
    "app.layout = html.Div([\n",
    "    \n",
    "    dcc.Graph(\n",
    "        id = 'Scatter-Chart',\n",
    "        figure = {\n",
    "            'data': [\n",
    "                go.Scatter(\n",
    "                    x = x_rand,\n",
    "                    y = y_rand,\n",
    "                    mode = 'markers'\n",
    "                ) \n",
    "            ],\n",
    "            'layout': go.Layout(\n",
    "                title = 'Scatterplot of Random 60 points',\n",
    "                xaxis = {'title':'Random X values'},\n",
    "                yaxis = {'title':'Random Y values'}\n",
    "                )\n",
    "        }\n",
    "    )\n",
    "    \n",
    "])"
   ]
  },
  {
   "cell_type": "code",
   "execution_count": 7,
   "id": "lucky-butter",
   "metadata": {},
   "outputs": [
    {
     "name": "stdout",
     "output_type": "stream",
     "text": [
      "Dash is running on http://127.0.0.1:4051/\n",
      "\n",
      " * Serving Flask app \"__main__\" (lazy loading)\n",
      " * Environment: production\n",
      "   WARNING: This is a development server. Do not use it in a production deployment.\n",
      "   Use a production WSGI server instead.\n",
      " * Debug mode: off\n"
     ]
    },
    {
     "name": "stderr",
     "output_type": "stream",
     "text": [
      " * Running on http://127.0.0.1:4051/ (Press CTRL+C to quit)\n",
      "127.0.0.1 - - [30/Mar/2021 08:24:28] \"\u001b[37mGET / HTTP/1.1\u001b[0m\" 200 -\n",
      "127.0.0.1 - - [30/Mar/2021 08:24:28] \"\u001b[37mGET /_dash-component-suites/dash_renderer/react@16.v1_9_0m1615532679.14.0.min.js HTTP/1.1\u001b[0m\" 200 -\n",
      "127.0.0.1 - - [30/Mar/2021 08:24:28] \"\u001b[37mGET /_dash-component-suites/dash_renderer/polyfill@7.v1_9_0m1615532679.8.7.min.js HTTP/1.1\u001b[0m\" 200 -\n",
      "127.0.0.1 - - [30/Mar/2021 08:24:28] \"\u001b[37mGET /_dash-component-suites/dash_renderer/prop-types@15.v1_9_0m1615532679.7.2.min.js HTTP/1.1\u001b[0m\" 200 -\n",
      "127.0.0.1 - - [30/Mar/2021 08:24:28] \"\u001b[37mGET /_dash-component-suites/dash_html_components/dash_html_components.v1_1_2m1615532680.min.js HTTP/1.1\u001b[0m\" 200 -\n",
      "127.0.0.1 - - [30/Mar/2021 08:24:28] \"\u001b[37mGET /_dash-component-suites/dash_renderer/react-dom@16.v1_9_0m1615532679.14.0.min.js HTTP/1.1\u001b[0m\" 200 -\n",
      "127.0.0.1 - - [30/Mar/2021 08:24:28] \"\u001b[37mGET /_dash-component-suites/dash_core_components/dash_core_components-shared.v1_15_0m1615532681.js HTTP/1.1\u001b[0m\" 200 -\n",
      "127.0.0.1 - - [30/Mar/2021 08:24:28] \"\u001b[37mGET /_dash-component-suites/dash_core_components/dash_core_components.v1_15_0m1615532681.min.js HTTP/1.1\u001b[0m\" 200 -\n",
      "127.0.0.1 - - [30/Mar/2021 08:24:28] \"\u001b[37mGET /_dash-component-suites/dash_renderer/dash_renderer.v1_9_0m1615532679.min.js HTTP/1.1\u001b[0m\" 200 -\n",
      "127.0.0.1 - - [30/Mar/2021 08:24:28] \"\u001b[37mGET /_dash-dependencies HTTP/1.1\u001b[0m\" 200 -\n",
      "127.0.0.1 - - [30/Mar/2021 08:24:28] \"\u001b[37mGET /_favicon.ico?v=1.19.0 HTTP/1.1\u001b[0m\" 200 -\n",
      "127.0.0.1 - - [30/Mar/2021 08:24:28] \"\u001b[37mGET /_dash-layout HTTP/1.1\u001b[0m\" 200 -\n",
      "127.0.0.1 - - [30/Mar/2021 08:24:28] \"\u001b[37mGET /_dash-component-suites/dash_core_components/async-graph.v1_15_0m1611086576.js HTTP/1.1\u001b[0m\" 200 -\n",
      "127.0.0.1 - - [30/Mar/2021 08:24:28] \"\u001b[37mGET /_dash-component-suites/dash_core_components/async-plotlyjs.v1_15_0m1611086576.js HTTP/1.1\u001b[0m\" 200 -\n"
     ]
    }
   ],
   "source": [
    "if __name__ == '__main__':\n",
    "    app.run_server(port=4051)"
   ]
  },
  {
   "cell_type": "code",
   "execution_count": null,
   "id": "searching-macedonia",
   "metadata": {},
   "outputs": [],
   "source": []
  }
 ],
 "metadata": {
  "kernelspec": {
   "display_name": "Python 3",
   "language": "python",
   "name": "python3"
  },
  "language_info": {
   "codemirror_mode": {
    "name": "ipython",
    "version": 3
   },
   "file_extension": ".py",
   "mimetype": "text/x-python",
   "name": "python",
   "nbconvert_exporter": "python",
   "pygments_lexer": "ipython3",
   "version": "3.7.9"
  }
 },
 "nbformat": 4,
 "nbformat_minor": 5
}
