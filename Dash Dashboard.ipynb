{
 "cells": [
  {
   "cell_type": "code",
   "execution_count": 2,
   "id": "oriental-scanner",
   "metadata": {},
   "outputs": [],
   "source": [
    "import dash\n",
    "import dash_core_components as dcc\n",
    "import dash_html_components as html"
   ]
  },
  {
   "cell_type": "code",
   "execution_count": 3,
   "id": "gross-outside",
   "metadata": {},
   "outputs": [],
   "source": [
    "app = dash.Dash()"
   ]
  },
  {
   "cell_type": "code",
   "execution_count": 23,
   "id": "domestic-mission",
   "metadata": {},
   "outputs": [],
   "source": [
    "colors = {\n",
    "    \n",
    "    'text':'#ff0000',\n",
    "    'plot_color':'#D3D3D3',\n",
    "    'paper_color':'#00FFFF'\n",
    "}"
   ]
  },
  {
   "cell_type": "code",
   "execution_count": 24,
   "id": "rental-balloon",
   "metadata": {},
   "outputs": [],
   "source": [
    "app.layout = html.Div([\n",
    "    html.H1(children = 'Hellow Dash!!!', \n",
    "            style = {\n",
    "                'textAlign':'center',\n",
    "                'color': colors['text']\n",
    "            }),\n",
    "    html.Div(children = 'Dash - A Data product Development framework from plotly',\n",
    "             style = {\n",
    "                'textAlign':'center',\n",
    "                'color': '#ff0000'\n",
    "            }),\n",
    "    \n",
    "    dcc.Graph(\n",
    "        id = 'sample chart',\n",
    "        figure = {\n",
    "            'data': [\n",
    "                {'x':[4,6,8],'y':[12,16,18],'type':'bar','name':'First Chart'},\n",
    "                {'x':[4,6,8],'y':[20,24,26],'type':'bar','name':'Second Chart'}\n",
    "            ],\n",
    "            'layout':{\n",
    "                'plot_bgcolor': colors['plot_color'],\n",
    "                'paper_bgcolor':colors['paper_color'],\n",
    "                'font':{\n",
    "                  'color': colors['text']\n",
    "                },\n",
    "                'title':'Simple Bar Chart'\n",
    "            }\n",
    "        }\n",
    "    )\n",
    "    \n",
    "])"
   ]
  },
  {
   "cell_type": "code",
   "execution_count": 25,
   "id": "atomic-proposal",
   "metadata": {},
   "outputs": [
    {
     "name": "stdout",
     "output_type": "stream",
     "text": [
      "Dash is running on http://127.0.0.1:4050/\n",
      "\n",
      " * Serving Flask app \"__main__\" (lazy loading)\n",
      " * Environment: production\n",
      "   WARNING: This is a development server. Do not use it in a production deployment.\n",
      "   Use a production WSGI server instead.\n",
      " * Debug mode: off\n"
     ]
    },
    {
     "name": "stderr",
     "output_type": "stream",
     "text": [
      " * Running on http://127.0.0.1:4050/ (Press CTRL+C to quit)\n",
      "127.0.0.1 - - [30/Mar/2021 08:15:45] \"\u001b[37mGET / HTTP/1.1\u001b[0m\" 200 -\n",
      "127.0.0.1 - - [30/Mar/2021 08:15:45] \"\u001b[37mGET /_dash-layout HTTP/1.1\u001b[0m\" 200 -\n",
      "127.0.0.1 - - [30/Mar/2021 08:15:45] \"\u001b[37mGET /_dash-dependencies HTTP/1.1\u001b[0m\" 200 -\n"
     ]
    }
   ],
   "source": [
    "if __name__ == '__main__':\n",
    "    app.run_server(port=4050)"
   ]
  },
  {
   "cell_type": "code",
   "execution_count": 8,
   "id": "adopted-dodge",
   "metadata": {},
   "outputs": [
    {
     "name": "stdout",
     "output_type": "stream",
     "text": [
      "Help on class Checklist in module dash_core_components.Checklist:\n",
      "\n",
      "class Checklist(dash.development.base_component.Component)\n",
      " |  Checklist(id=undefined, options=undefined, value=undefined, className=undefined, style=undefined, inputStyle=undefined, inputClassName=undefined, labelStyle=undefined, labelClassName=undefined, loading_state=undefined, persistence=undefined, persisted_props=undefined, persistence_type=undefined, **kwargs)\n",
      " |  \n",
      " |  A Checklist component.\n",
      " |  Checklist is a component that encapsulates several checkboxes.\n",
      " |  The values and labels of the checklist are specified in the `options`\n",
      " |  property and the checked items are specified with the `value` property.\n",
      " |  Each checkbox is rendered as an input with a surrounding label.\n",
      " |  \n",
      " |  Keyword arguments:\n",
      " |  - id (string; optional): The ID of this component, used to identify dash components\n",
      " |  in callbacks. The ID needs to be unique across all of the\n",
      " |  components in an app.\n",
      " |  - options (dict; optional): An array of options. options has the following type: list of dicts containing keys 'label', 'value', 'disabled'.\n",
      " |  Those keys have the following types:\n",
      " |    - label (string | number; required): The checkbox's label\n",
      " |    - value (string | number; required): The value of the checkbox. This value\n",
      " |  corresponds to the items specified in the\n",
      " |  `value` property.\n",
      " |    - disabled (boolean; optional): If true, this checkbox is disabled and can't be clicked on.\n",
      " |  - value (list of string | numbers; optional): The currently selected value\n",
      " |  - className (string; optional): The class of the container (div)\n",
      " |  - style (dict; optional): The style of the container (div)\n",
      " |  - inputStyle (dict; optional): The style of the <input> checkbox element\n",
      " |  - inputClassName (string; default ''): The class of the <input> checkbox element\n",
      " |  - labelStyle (dict; optional): The style of the <label> that wraps the checkbox input\n",
      " |   and the option's label\n",
      " |  - labelClassName (string; default ''): The class of the <label> that wraps the checkbox input\n",
      " |   and the option's label\n",
      " |  - loading_state (dict; optional): Object that holds the loading state object coming from dash-renderer. loading_state has the following type: dict containing keys 'is_loading', 'prop_name', 'component_name'.\n",
      " |  Those keys have the following types:\n",
      " |    - is_loading (boolean; optional): Determines if the component is loading or not\n",
      " |    - prop_name (string; optional): Holds which property is loading\n",
      " |    - component_name (string; optional): Holds the name of the component that is loading\n",
      " |  - persistence (boolean | string | number; optional): Used to allow user interactions in this component to be persisted when\n",
      " |  the component - or the page - is refreshed. If `persisted` is truthy and\n",
      " |  hasn't changed from its previous value, a `value` that the user has\n",
      " |  changed while using the app will keep that change, as long as\n",
      " |  the new `value` also matches what was given originally.\n",
      " |  Used in conjunction with `persistence_type`.\n",
      " |  - persisted_props (list of a value equal to: 'value's; default ['value']): Properties whose user interactions will persist after refreshing the\n",
      " |  component or the page. Since only `value` is allowed this prop can\n",
      " |  normally be ignored.\n",
      " |  - persistence_type (a value equal to: 'local', 'session', 'memory'; default 'local'): Where persisted user changes will be stored:\n",
      " |  memory: only kept in memory, reset on page refresh.\n",
      " |  local: window.localStorage, data is kept after the browser quit.\n",
      " |  session: window.sessionStorage, data is cleared once the browser quit.\n",
      " |  \n",
      " |  Method resolution order:\n",
      " |      Checklist\n",
      " |      dash.development.base_component.Component\n",
      " |      builtins.object\n",
      " |  \n",
      " |  Methods defined here:\n",
      " |  \n",
      " |  __init__ = wrapper(self, id=undefined, options=undefined, value=undefined, className=undefined, style=undefined, inputStyle=undefined, inputClassName=undefined, labelStyle=undefined, labelClassName=undefined, loading_state=undefined, persistence=undefined, persisted_props=undefined, persistence_type=undefined, **kwargs)\n",
      " |  \n",
      " |  ----------------------------------------------------------------------\n",
      " |  Data and other attributes defined here:\n",
      " |  \n",
      " |  __abstractmethods__ = frozenset()\n",
      " |  \n",
      " |  ----------------------------------------------------------------------\n",
      " |  Methods inherited from dash.development.base_component.Component:\n",
      " |  \n",
      " |  __delitem__(self, id)\n",
      " |      Delete items by ID in the tree of children.\n",
      " |  \n",
      " |  __getitem__(self, id)\n",
      " |      Recursively find the element with the given ID through the tree of\n",
      " |      children.\n",
      " |  \n",
      " |  __iter__(self)\n",
      " |      Yield IDs in the tree of children.\n",
      " |  \n",
      " |  __len__(self)\n",
      " |      Return the number of items in the tree.\n",
      " |  \n",
      " |  __repr__(self)\n",
      " |      Return repr(self).\n",
      " |  \n",
      " |  __setitem__(self, id, item)\n",
      " |      Set an element by its ID.\n",
      " |  \n",
      " |  to_plotly_json(self)\n",
      " |  \n",
      " |  ----------------------------------------------------------------------\n",
      " |  Data descriptors inherited from dash.development.base_component.Component:\n",
      " |  \n",
      " |  __dict__\n",
      " |      dictionary for instance variables (if defined)\n",
      " |  \n",
      " |  __weakref__\n",
      " |      list of weak references to the object (if defined)\n",
      " |  \n",
      " |  ----------------------------------------------------------------------\n",
      " |  Data and other attributes inherited from dash.development.base_component.Component:\n",
      " |  \n",
      " |  REQUIRED = required\n",
      " |  \n",
      " |  UNDEFINED = undefined\n",
      "\n"
     ]
    }
   ],
   "source": [
    "help(dcc.Checklist)"
   ]
  },
  {
   "cell_type": "code",
   "execution_count": null,
   "id": "simple-chamber",
   "metadata": {},
   "outputs": [],
   "source": []
  }
 ],
 "metadata": {
  "kernelspec": {
   "display_name": "Python 3",
   "language": "python",
   "name": "python3"
  },
  "language_info": {
   "codemirror_mode": {
    "name": "ipython",
    "version": 3
   },
   "file_extension": ".py",
   "mimetype": "text/x-python",
   "name": "python",
   "nbconvert_exporter": "python",
   "pygments_lexer": "ipython3",
   "version": "3.7.9"
  }
 },
 "nbformat": 4,
 "nbformat_minor": 5
}
