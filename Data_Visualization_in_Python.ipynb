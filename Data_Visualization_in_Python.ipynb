{
  "nbformat": 4,
  "nbformat_minor": 0,
  "metadata": {
    "colab": {
      "name": "Data_Visualization_in_Python.ipynb",
      "provenance": [],
      "collapsed_sections": []
    },
    "kernelspec": {
      "display_name": "Python 3",
      "language": "python",
      "name": "python3"
    },
    "language_info": {
      "codemirror_mode": {
        "name": "ipython",
        "version": 3
      },
      "file_extension": ".py",
      "mimetype": "text/x-python",
      "name": "python",
      "nbconvert_exporter": "python",
      "pygments_lexer": "ipython3",
      "version": "3.7.5"
    },
    "varInspector": {
      "cols": {
        "lenName": 16,
        "lenType": 16,
        "lenVar": 40
      },
      "kernels_config": {
        "python": {
          "delete_cmd_postfix": "",
          "delete_cmd_prefix": "del ",
          "library": "var_list.py",
          "varRefreshCmd": "print(var_dic_list())"
        },
        "r": {
          "delete_cmd_postfix": ") ",
          "delete_cmd_prefix": "rm(",
          "library": "var_list.r",
          "varRefreshCmd": "cat(var_dic_list()) "
        }
      },
      "types_to_exclude": [
        "module",
        "function",
        "builtin_function_or_method",
        "instance",
        "_Feature"
      ],
      "window_display": false
    }
  },
  "cells": [
    {
      "cell_type": "markdown",
      "metadata": {
        "id": "p4_ntQJgg4sx"
      },
      "source": [
        "# Week 1 \n",
        "# Data Visualization in Python with `Matplotlib` and `Seaborn`\n"
      ]
    },
    {
      "cell_type": "markdown",
      "metadata": {
        "id": "AeQD8rSMg4s0"
      },
      "source": [
        "**Data visualization** is the process of searching, interpreting, contrasting and comparing data that allows in-depth and detailed knowledge of the data in such a way that they become comprehensible information. There are several packages in Python for data visualization, among which are: \n",
        "- `Matplotlib`: It is the most used library for plotting in the Python community, despite having more than a decade of development. Because matplotlib was the first Python data visualization library, many other libraries are built on top of it. Some libraries like `pandas` and `Seaborn` are wrappers over `matplotlib`.\n",
        "- `Seaborn`: leverages matplotlib's ability to create aesthetic graphics in a few lines of code. The most palpable difference is Seaborn's default styles and color palettes, which are designed to be more aesthetically pleasing and modern.\n",
        "- `Pandas` plotting: allows data visualization through adaptations of the `matplotlib` library, facilitating the data aggregation and manipulation in a few lines of code.\n",
        "- `Plotly`: allows the data viusalization by interactive plots, offering additional chart configurations as contour plots, dendograms, and 3D charts.\n",
        "- `ggplot`: is based on *ggplot2* from R plotting system. `ggplot` operates differently than `matplotlib` and `seaborn`, making layers fromo its components to create a complete plot.\n",
        "- `Bokeh`: creates interactive, web-ready plots, which can be easily output as JSON objects, HTML documents, or interactive web applications, supporting streaming and real-time data.\n",
        "- `AstroPy`: is a collection of software packages written in the Python, and designed for use in astronomy.\n",
        "- `Gleam`: is inspired by R's Shiny package. It allows to turn analysis into interactive web applications using only Python scripts, avoiding the use of other languages like HTML, CSS, or JavaScript.\n",
        "- `Geoplotlib`: is a toolbox for creating maps and plotting geographical data by creating a variety of map-types, like choropleths, heatmaps, and dot density maps.\n",
        "- `Missingno`: allows to quickly gauge the completeness of a dataset with a visual summary, instead of trudging through a table.\n",
        "\n",
        "In this notebook we will be reviewing the data visualization process through `matplotlib` and `seaborn` packages, which are considerably malleable and very flexible, allowing a better understanding of the behavior of the plotted variables."
      ]
    },
    {
      "cell_type": "markdown",
      "metadata": {
        "id": "-nNd8rj0qAy9"
      },
      "source": [
        "## 1. Matplotlib"
      ]
    },
    {
      "cell_type": "markdown",
      "metadata": {
        "id": "y9oVEn3eXM-0"
      },
      "source": [
        "`Matplotlib` is a comprehensive library for creating static, animated, and interactive visualizations in Python. It is useful for those working with `Python` and `NumPy`. \n",
        "\n",
        "The most used module of `Matplotib` is `Pyplot` which provides an interface like MATLAB but instead, it uses Python and it is open source."
      ]
    },
    {
      "cell_type": "markdown",
      "metadata": {
        "id": "pz64R3YqqAy_"
      },
      "source": [
        "`matplotlib.pyplot` is a collection of command style functions that make `matplotlib` work like MATLAB. \n",
        "\n",
        "Each `pyplot` function makes some change to a figure: e.g., creates a figure, creates a plotting area in a figure, plots some lines in a plotting area, decorates the plot with labels, etc."
      ]
    },
    {
      "cell_type": "markdown",
      "metadata": {
        "id": "8G97dUdAqAzA"
      },
      "source": [
        "`Matplotlib`’s charts are made up of two main components:\n",
        "1. **The axes:** the lines that delimit the area of the chart\n",
        "2. **The figure:** where we draw the axes, titles and elements that come out of the area of the axes."
      ]
    },
    {
      "cell_type": "markdown",
      "metadata": {
        "id": "keAIJ_Ikg4tE"
      },
      "source": [
        "The general location of the elements in a `matplotlib` figure is as follows:"
      ]
    },
    {
      "cell_type": "markdown",
      "metadata": {
        "id": "6R482Odxg4tG"
      },
      "source": [
        "![Python_PlotFigure.png](https://www.ntu.edu.sg/home/ehchua/programming/webprogramming/images/Python_PlotFigure.png)\n",
        "<div style=\"font-size: 12px\", align=\"center\">\n",
        "    Figure 1. General location of elements in a Matplotlib chart. \n",
        "</div >"
      ]
    },
    {
      "cell_type": "markdown",
      "metadata": {
        "id": "TYKdumlVg4tH"
      },
      "source": [
        "In the following sections we will review how to graph with `matplotlib`"
      ]
    },
    {
      "cell_type": "markdown",
      "metadata": {
        "id": "SdG79euNqAzB"
      },
      "source": [
        "### 1.1. Installing `matplotlib`"
      ]
    },
    {
      "cell_type": "markdown",
      "metadata": {
        "id": "g8-E6HkAqAzD"
      },
      "source": [
        "Before Matplotlib's plotting functions can be used, `Matplotlib` needs to be installed. The Anaconda distribution of Python as well as Google Colab come with Matplotlib pre-installed and no further installation steps are necessary.\n",
        "\n",
        "However, if you're not using any of those, you can install it by running a simple `pip` command in your terminal:\n",
        "\n",
        "```pip install matplotlib```"
      ]
    },
    {
      "cell_type": "markdown",
      "metadata": {
        "id": "c-Wt7o9Mg4tL"
      },
      "source": [
        "### 1.2. Importing packages"
      ]
    },
    {
      "cell_type": "markdown",
      "metadata": {
        "id": "Kfz4x2wRg4tN"
      },
      "source": [
        "Just as we use the `np` shorthand for `NumPy` and the `pd` shorthand for `Pandas`, we will use the standard shorthand `plt` for the Matplotlib imports:"
      ]
    },
    {
      "cell_type": "code",
      "metadata": {
        "id": "PThTQwUaXM-1"
      },
      "source": [
        "import matplotlib.pyplot as plt\n",
        "import numpy as np\n",
        "import pandas as pd"
      ],
      "execution_count": null,
      "outputs": []
    },
    {
      "cell_type": "markdown",
      "metadata": {
        "id": "FPp6azNrBr_o"
      },
      "source": [
        "### 1.3. Loading Dataset\n"
      ]
    },
    {
      "cell_type": "code",
      "metadata": {
        "id": "wjqKN43AHWCx"
      },
      "source": [
        "x = pd.read_csv(\"https://raw.githubusercontent.com/dphi-official/Datasets/master/Standard_Metropolitan_Areas_Data-data.csv\") #let's load a dataset"
      ],
      "execution_count": null,
      "outputs": []
    },
    {
      "cell_type": "code",
      "metadata": {
        "id": "uxBgn_aWHvds",
        "colab": {
          "base_uri": "https://localhost:8080/",
          "height": 197
        },
        "outputId": "a3422dcf-89eb-41d1-d2aa-28c45b197b39"
      },
      "source": [
        "x.head() #check what all variables/fields are there in the dataset"
      ],
      "execution_count": null,
      "outputs": [
        {
          "output_type": "execute_result",
          "data": {
            "text/html": [
              "<div>\n",
              "<style scoped>\n",
              "    .dataframe tbody tr th:only-of-type {\n",
              "        vertical-align: middle;\n",
              "    }\n",
              "\n",
              "    .dataframe tbody tr th {\n",
              "        vertical-align: top;\n",
              "    }\n",
              "\n",
              "    .dataframe thead th {\n",
              "        text-align: right;\n",
              "    }\n",
              "</style>\n",
              "<table border=\"1\" class=\"dataframe\">\n",
              "  <thead>\n",
              "    <tr style=\"text-align: right;\">\n",
              "      <th></th>\n",
              "      <th>land_area</th>\n",
              "      <th>percent_city</th>\n",
              "      <th>percent_senior</th>\n",
              "      <th>physicians</th>\n",
              "      <th>hospital_beds</th>\n",
              "      <th>graduates</th>\n",
              "      <th>work_force</th>\n",
              "      <th>income</th>\n",
              "      <th>region</th>\n",
              "      <th>crime_rate</th>\n",
              "    </tr>\n",
              "  </thead>\n",
              "  <tbody>\n",
              "    <tr>\n",
              "      <th>0</th>\n",
              "      <td>1384</td>\n",
              "      <td>78.1</td>\n",
              "      <td>12.3</td>\n",
              "      <td>25627</td>\n",
              "      <td>69678</td>\n",
              "      <td>50.1</td>\n",
              "      <td>4083.9</td>\n",
              "      <td>72100</td>\n",
              "      <td>1</td>\n",
              "      <td>75.55</td>\n",
              "    </tr>\n",
              "    <tr>\n",
              "      <th>1</th>\n",
              "      <td>3719</td>\n",
              "      <td>43.9</td>\n",
              "      <td>9.4</td>\n",
              "      <td>13326</td>\n",
              "      <td>43292</td>\n",
              "      <td>53.9</td>\n",
              "      <td>3305.9</td>\n",
              "      <td>54542</td>\n",
              "      <td>2</td>\n",
              "      <td>56.03</td>\n",
              "    </tr>\n",
              "    <tr>\n",
              "      <th>2</th>\n",
              "      <td>3553</td>\n",
              "      <td>37.4</td>\n",
              "      <td>10.7</td>\n",
              "      <td>9724</td>\n",
              "      <td>33731</td>\n",
              "      <td>50.6</td>\n",
              "      <td>2066.3</td>\n",
              "      <td>33216</td>\n",
              "      <td>1</td>\n",
              "      <td>41.32</td>\n",
              "    </tr>\n",
              "    <tr>\n",
              "      <th>3</th>\n",
              "      <td>3916</td>\n",
              "      <td>29.9</td>\n",
              "      <td>8.8</td>\n",
              "      <td>6402</td>\n",
              "      <td>24167</td>\n",
              "      <td>52.2</td>\n",
              "      <td>1966.7</td>\n",
              "      <td>32906</td>\n",
              "      <td>2</td>\n",
              "      <td>67.38</td>\n",
              "    </tr>\n",
              "    <tr>\n",
              "      <th>4</th>\n",
              "      <td>2480</td>\n",
              "      <td>31.5</td>\n",
              "      <td>10.5</td>\n",
              "      <td>8502</td>\n",
              "      <td>16751</td>\n",
              "      <td>66.1</td>\n",
              "      <td>1514.5</td>\n",
              "      <td>26573</td>\n",
              "      <td>4</td>\n",
              "      <td>80.19</td>\n",
              "    </tr>\n",
              "  </tbody>\n",
              "</table>\n",
              "</div>"
            ],
            "text/plain": [
              "   land_area  percent_city  percent_senior  ...  income  region  crime_rate\n",
              "0       1384          78.1            12.3  ...   72100       1       75.55\n",
              "1       3719          43.9             9.4  ...   54542       2       56.03\n",
              "2       3553          37.4            10.7  ...   33216       1       41.32\n",
              "3       3916          29.9             8.8  ...   32906       2       67.38\n",
              "4       2480          31.5            10.5  ...   26573       4       80.19\n",
              "\n",
              "[5 rows x 10 columns]"
            ]
          },
          "metadata": {
            "tags": []
          },
          "execution_count": 3
        }
      ]
    },
    {
      "cell_type": "markdown",
      "metadata": {
        "id": "5f5Tz7Neg4td"
      },
      "source": [
        "Time to plot some graphs now!"
      ]
    },
    {
      "cell_type": "markdown",
      "metadata": {
        "id": "lZcL-6qcqAzP"
      },
      "source": [
        "### 1.4. Scatter Plot using `Matplotlib`"
      ]
    },
    {
      "cell_type": "markdown",
      "metadata": {
        "id": "3O2IawZ0g4th"
      },
      "source": [
        "- A scatter plot (aka scatter chart, scatter graph) uses dots to represent values for two different numeric variables. \n",
        "- The position of each dot on the horizontal and vertical axis indicates values for an individual data point. \n",
        "- Scatter plots are used to observe relationships between variables.\n",
        "\n",
        "To create a scatter plot in `Matplotlib` we can use the `.scatter()` method:"
      ]
    },
    {
      "cell_type": "code",
      "metadata": {
        "id": "ahTQVqAMXM-6",
        "colab": {
          "base_uri": "https://localhost:8080/",
          "height": 266
        },
        "outputId": "3903a8e8-d30c-457d-b562-a81d07a806b8"
      },
      "source": [
        "plt.scatter(x.crime_rate, x.percent_senior) # Plotting the scatter plot\n",
        "# Here we are creating a scatter plot between crime rate and percent senior variables\n",
        "plt.show() # Showing the figure"
      ],
      "execution_count": null,
      "outputs": [
        {
          "output_type": "display_data",
          "data": {
            "image/png": "[encoded data removed]",
            "text/plain": [
              "<Figure size 432x288 with 1 Axes>"
            ]
          },
          "metadata": {
            "tags": [],
            "needs_background": "light"
          }
        }
      ]
    },
    {
      "cell_type": "markdown",
      "metadata": {
        "id": "gtgMNckkg4ts"
      },
      "source": [
        "Both structures that store the values `x.crime_rate` and `x.percent_senior` must have the same size, so that the bijective relationship is maintained between each point of the independent variable $x$ with its corresponding one in the dependent variable $y$."
      ]
    },
    {
      "cell_type": "markdown",
      "metadata": {
        "id": "7U1FgTT5754b"
      },
      "source": [
        "### Applications of Scatter Plot:\n",
        "\n",
        "A scatter plot can also be useful for identifying other patterns in data. \n",
        "- We can divide data points into groups based on how closely sets of points cluster together. \n",
        "- Scatter plots can also show if there are any unexpected gaps in the data and if there are any outlier points.(Look at the 2 points away from rest of the data in the scatter plot. Those are outliers.)\n",
        "\n",
        "This can be useful if we want to segment the data into different parts, like categorising users into different groups."
      ]
    },
    {
      "cell_type": "markdown",
      "metadata": {
        "id": "SUYmrKoiqAza"
      },
      "source": [
        "#### Is `plt.show()` always required?\n",
        "\n",
        "1. If `Matplotlib` is used in a terminal, scripts or specialized IDEs as Spyder, Pycharm or VS Code, `plt.show()` is a must.\n",
        "\n",
        "2. If `Matplotlib` is used in a IPython shell or a notebook as Jupyter Notebook or Colab Notebook, `plt.show()` is usually unnecessary.\n",
        "\n",
        "In the following cell we are executing the same script as above, removing the `plt.show()` instruction:"
      ]
    },
    {
      "cell_type": "code",
      "metadata": {
        "id": "efUb9WoAqAzb",
        "colab": {
          "base_uri": "https://localhost:8080/",
          "height": 283
        },
        "outputId": "a9f0178b-9119-49e9-a0ec-d522e8ecd5c5"
      },
      "source": [
        "# The same code block without plt.show() gives the same result in Jupyter Notebook\n",
        "plt.scatter(x.crime_rate, x.percent_senior)"
      ],
      "execution_count": null,
      "outputs": [
        {
          "output_type": "execute_result",
          "data": {
            "text/plain": [
              "<matplotlib.collections.PathCollection at 0x7fd7b117d9e8>"
            ]
          },
          "metadata": {
            "tags": []
          },
          "execution_count": 5
        },
        {
          "output_type": "display_data",
          "data": {
            "image/png": "[encoded data removed]",
            "text/plain": [
              "<Figure size 432x288 with 1 Axes>"
            ]
          },
          "metadata": {
            "tags": [],
            "needs_background": "light"
          }
        }
      ]
    },
    {
      "cell_type": "markdown",
      "metadata": {
        "id": "12ffKYHdg4t7"
      },
      "source": [
        "The only difference is the inclusion of the figure output object:\n",
        "```\n",
        "<matplotlib.collections.PathCollection at 0x7f835e24d978>\n",
        "``` \n",
        "If you want to prevent this from being included as a cell output, use `plt.show()` at the end of each plotting instruction."
      ]
    },
    {
      "cell_type": "markdown",
      "metadata": {
        "id": "f2Or7pbSg4t8"
      },
      "source": [
        "The `plt.show()` command does a lot under the hood, as it must interact with your system's interactive graphical backend. The details of this operation can vary greatly from system to system and even installation to installation, but matplotlib does its best to hide all these details from you. "
      ]
    },
    {
      "cell_type": "markdown",
      "metadata": {
        "id": "J5lJlZl_qAz0"
      },
      "source": [
        "#### Adding titles and labels"
      ]
    },
    {
      "cell_type": "markdown",
      "metadata": {
        "id": "QyGTsZzQg4uh"
      },
      "source": [
        "Visualizing the data through plotting for better interpretation is an indispensable practice. However, the graphics must express the full story. To express this story, it is necessary to add labels that indicate what is being plotted, where and what it represents. We do this by including data labels, axis labels, and titles."
      ]
    },
    {
      "cell_type": "code",
      "metadata": {
        "id": "MMlMW_8fXM_A",
        "colab": {
          "base_uri": "https://localhost:8080/",
          "height": 295
        },
        "outputId": "882ee047-a337-4a67-a596-cbc651f13344"
      },
      "source": [
        "plt.scatter(x.percent_senior, x.crime_rate)\n",
        "\n",
        "plt.title('Plot of Crime Rate vs Percent Senior') # Adding a title to the plot\n",
        "plt.xlabel(\"Percent Senior\") # Adding the label for the horizontal axis\n",
        "plt.ylabel(\"Crime Rate\") # Adding the label for the vertical axis\n",
        "plt.show()"
      ],
      "execution_count": null,
      "outputs": [
        {
          "output_type": "display_data",
          "data": {
            "image/png": "[encoded data removed]",
            "text/plain": [
              "<Figure size 432x288 with 1 Axes>"
            ]
          },
          "metadata": {
            "tags": [],
            "needs_background": "light"
          }
        }
      ]
    },
    {
      "cell_type": "markdown",
      "metadata": {
        "id": "1LhHzcIuqAzh"
      },
      "source": [
        "### 1.5. Line Chart using `Matplotlib`"
      ]
    },
    {
      "cell_type": "markdown",
      "metadata": {
        "id": "uGWZ1Yv9g4uF"
      },
      "source": [
        "A line chart is used to represent data over a continuous time span. It is generally used to show trend of a measure (or a variable) over time. Data values are plotted as points that are connected using line segments.\n",
        "\n",
        "In Matplotlib we can create a line chart by calling the plot method.\n",
        "\n",
        "plot() is a versatile command, and will take an arbitrary number of arguments."
      ]
    },
    {
      "cell_type": "markdown",
      "metadata": {
        "id": "4V5gdKN5g4uH"
      },
      "source": [
        "### Applications of Line Chart:\n",
        "\n",
        "Using a line chart one can see the pattern of any dependent variable over time like share price, weather recordings (like temperature, precipitation or humidity), etc. Let's look at an example of the graphical representation of Netflix Paid Subscriber Count growth from 2012 to 2018:\n",
        "\n",
        "![Netflix Subscriber Count 2012-2014](https://www.marketingcharts.com/wp-content/uploads/2019/01/Netflix-Paid-Streaming-Subscriber-Count-Q12012-Q42018-Jan2019.png)\n",
        "<div style=\"font-size: 12px\", align=\"center\">\n",
        "    Figure 2. Netflix Subscriber Count from 2012 to 2014\n",
        "</div >"
      ]
    },
    {
      "cell_type": "markdown",
      "metadata": {
        "id": "g4un8SFNqAzi"
      },
      "source": [
        "In `Matplotlib` we can create a line chart by calling the native `.plot()` method, which is a versatile command, and will take an arbitrary number of arguments:"
      ]
    },
    {
      "cell_type": "code",
      "metadata": {
        "id": "KAQO5fETXM-9",
        "colab": {
          "base_uri": "https://localhost:8080/",
          "height": 279
        },
        "outputId": "ee461259-ecad-4ad1-c43b-772ad1d6d5f1"
      },
      "source": [
        "plt.plot(x.work_force, x.income) # 2 arguments: X and Y points\n",
        "plt.xlabel(\"Work Force\") # Adding the label for the horizontal axis\n",
        "plt.ylabel(\"Income\")\n",
        "plt.show()"
      ],
      "execution_count": null,
      "outputs": [
        {
          "output_type": "display_data",
          "data": {
            "image/png": "[encoded data removed]",
            "text/plain": [
              "<Figure size 432x288 with 1 Axes>"
            ]
          },
          "metadata": {
            "tags": [],
            "needs_background": "light"
          }
        }
      ]
    },
    {
      "cell_type": "markdown",
      "metadata": {
        "id": "YgH_As-dg4uT"
      },
      "source": [
        "Because it is a line chart, `matplotlib` automatically draws a line to connect each pair of consecutive points that represent Cartesian coordinates on the graph. We can also make a graph with a single input argument:"
      ]
    },
    {
      "cell_type": "code",
      "metadata": {
        "id": "BT8zlIiHqAzq",
        "colab": {
          "base_uri": "https://localhost:8080/",
          "height": 264
        },
        "outputId": "09e986c2-a270-41c5-c30f-7496a981ab6b"
      },
      "source": [
        "plt.plot([1, 2, 3, 4]) # 1 argument\n",
        "plt.show()"
      ],
      "execution_count": null,
      "outputs": [
        {
          "output_type": "display_data",
          "data": {
            "image/png": "[encoded data removed]",
            "text/plain": [
              "<Figure size 432x288 with 1 Axes>"
            ]
          },
          "metadata": {
            "tags": [],
            "needs_background": "light"
          }
        }
      ]
    },
    {
      "cell_type": "markdown",
      "metadata": {
        "id": "DH8hXrxJqAzz"
      },
      "source": [
        "You may be wondering why the x-axis ranges from 0-3 and the y-axis from 1-4. If you provide a single list or array of $n$ elements to the `.plot()` function, `matplotlib` will assume it is a sequence of $y$ values, and **automatically generates the $x$ values for you** as a range of $n$ elements starting from 0. Since python ranges start with 0, the default $x$ vector has the same length as $y$. Hence the $x$ data will be [0,1,2,3]."
      ]
    },
    {
      "cell_type": "markdown",
      "metadata": {
        "id": "m-bZ8MgaqAz-"
      },
      "source": [
        "#### Changing the size of the plot"
      ]
    },
    {
      "cell_type": "markdown",
      "metadata": {
        "id": "1RFRKffSg4vK"
      },
      "source": [
        "You may have noticed that there is a lot of space in the width to show the graph and `matplotlib` has shown it in a small space of our notebook. The size of the figure that contains the graph can be varied with the `figsize` argument as follows:\n",
        "\n",
        "```\n",
        "plt.figure(figsize=(new_width_pixels, new_height_pixels))\n",
        "```\n",
        "\n",
        "Let's look at this example:"
      ]
    },
    {
      "cell_type": "code",
      "metadata": {
        "id": "gL-Gdu-1XM_D",
        "colab": {
          "base_uri": "https://localhost:8080/",
          "height": 333
        },
        "outputId": "fbb53c9b-5f27-4ec8-e63b-7bae2abe0ed7"
      },
      "source": [
        "plt.figure(figsize=(12,5)) # 12x5 plot\n",
        "\n",
        "plt.plot(x.work_force, x.income) \n",
        "plt.xlabel(\"Work Force\") \n",
        "plt.ylabel(\"Income\")\n",
        "plt.show()"
      ],
      "execution_count": null,
      "outputs": [
        {
          "output_type": "display_data",
          "data": {
            "image/png": "[encoded data removed]",
            "text/plain": [
              "<Figure size 864x360 with 1 Axes>"
            ]
          },
          "metadata": {
            "tags": [],
            "needs_background": "light"
          }
        }
      ]
    },
    {
      "cell_type": "markdown",
      "metadata": {
        "id": "IuScMzd1qA0G"
      },
      "source": [
        "#### Formatting the style of your plot"
      ]
    },
    {
      "cell_type": "markdown",
      "metadata": {
        "id": "JNK1WMuz-ZdJ"
      },
      "source": [
        "Specify the keyword args linestyle and/or marker in your call to plot.\n",
        "\n",
        "For example, using a dashed line and red circle markers:"
      ]
    },
    {
      "cell_type": "code",
      "metadata": {
        "id": "1UmC3WDt-a06",
        "colab": {
          "base_uri": "https://localhost:8080/",
          "height": 279
        },
        "outputId": "57264994-e918-4f27-8fea-e793e29cd82d"
      },
      "source": [
        "plt.plot(x.work_force, x.income, linestyle='--', marker='o', color='r')\n",
        "plt.xlabel(\"Work Force\") \n",
        "plt.ylabel(\"Income\")\n",
        "plt.show()"
      ],
      "execution_count": null,
      "outputs": [
        {
          "output_type": "display_data",
          "data": {
            "image/png": "[encoded data removed]",
            "text/plain": [
              "<Figure size 432x288 with 1 Axes>"
            ]
          },
          "metadata": {
            "tags": [],
            "needs_background": "light"
          }
        }
      ]
    },
    {
      "cell_type": "markdown",
      "metadata": {
        "id": "fOqQdA_zqA0I"
      },
      "source": [
        "#### A shortcut for the above\n",
        "\n",
        "For every x, y pair of arguments, there is an optional third argument which is the format string that indicates the color and line type of the plot. The letters and symbols of the format string are from MATLAB, and you concatenate a color string with a line style string. The default format string is 'b-', which is a solid blue line. "
      ]
    },
    {
      "cell_type": "code",
      "metadata": {
        "id": "yYzjma83qA0K",
        "colab": {
          "base_uri": "https://localhost:8080/",
          "height": 279
        },
        "outputId": "7089162e-31ea-4818-d22f-08c4cca7f253"
      },
      "source": [
        "plt.plot(x.work_force, x.income, '--ro')  # ro = red circles\n",
        "plt.xlabel(\"Work Force\") \n",
        "plt.ylabel(\"Income\")\n",
        "plt.show()"
      ],
      "execution_count": null,
      "outputs": [
        {
          "output_type": "display_data",
          "data": {
            "image/png": "[encoded data removed]",
            "text/plain": [
              "<Figure size 432x288 with 1 Axes>"
            ]
          },
          "metadata": {
            "tags": [],
            "needs_background": "light"
          }
        }
      ]
    },
    {
      "cell_type": "markdown",
      "metadata": {
        "id": "FsP3I73R-l-Q"
      },
      "source": [
        "It turns out that the plot function can produce scatter plots as well"
      ]
    },
    {
      "cell_type": "code",
      "metadata": {
        "id": "M1r5ccrb-nuk",
        "colab": {
          "base_uri": "https://localhost:8080/",
          "height": 264
        },
        "outputId": "b4dbb15a-ea81-4d71-cbc9-7bb7114e7599"
      },
      "source": [
        "plt.plot(x.work_force, x.income, 'ro') # ro = red circles\n",
        "plt.show()"
      ],
      "execution_count": null,
      "outputs": [
        {
          "output_type": "display_data",
          "data": {
            "image/png": "[encoded data removed]",
            "text/plain": [
              "<Figure size 432x288 with 1 Axes>"
            ]
          },
          "metadata": {
            "tags": [],
            "needs_background": "light"
          }
        }
      ]
    },
    {
      "cell_type": "code",
      "metadata": {
        "id": "mtgTK-THXM_G",
        "colab": {
          "base_uri": "https://localhost:8080/",
          "height": 264
        },
        "outputId": "17b89615-c5aa-4e99-85be-601d216d34e1"
      },
      "source": [
        "plt.plot(x.work_force, x.income, \"gx\") # gx = green x\n",
        "plt.show()"
      ],
      "execution_count": null,
      "outputs": [
        {
          "output_type": "display_data",
          "data": {
            "image/png": "[encoded data removed]",
            "text/plain": [
              "<Figure size 432x288 with 1 Axes>"
            ]
          },
          "metadata": {
            "tags": [],
            "needs_background": "light"
          }
        }
      ]
    },
    {
      "cell_type": "markdown",
      "metadata": {
        "id": "agini_RYg4vr"
      },
      "source": [
        "There are plenty of other options. You can try the following:\n",
        "\n",
        "```\n",
        "plt.plot(x.work_force, x.income, \"go\") # green circles\n",
        "plt.plot(x.work_force, x.income, \"g^\") # green traingles\n",
        "plt.plot(x.work_force, x.income, \"ro\") # red circles\n",
        "plt.plot(x.work_force, x.income, \"rx\") # red x symbol\n",
        "plt.plot(x.work_force, x.income, \"b^\") # red ^ symbol\n",
        "plt.plot(x.work_force, x.income, \"go--\", linewidth=3) # green circles and dashed lines of width 3.\n",
        "```"
      ]
    },
    {
      "cell_type": "markdown",
      "metadata": {
        "id": "C0BqyD82qA0k"
      },
      "source": [
        "### 1.6. Plotting consecutive plots using `Matplotlib` "
      ]
    },
    {
      "cell_type": "markdown",
      "metadata": {
        "id": "5AdCy4x6g4v4"
      },
      "source": [
        "Plotting data on multiple consecutive figures can be done by calling the corresponding graphing functions and displaying each figure consecutively:"
      ]
    },
    {
      "cell_type": "code",
      "metadata": {
        "id": "hBANP3F-g4u7",
        "colab": {
          "base_uri": "https://localhost:8080/",
          "height": 513
        },
        "outputId": "ab6397d6-8e6b-4b7b-cf8c-0b9a91820b80"
      },
      "source": [
        "plt.plot(x.work_force, x.income, color=\"r\") \n",
        "plt.show()\n",
        "plt.plot(x.physicians, x.income) \n",
        "plt.show()"
      ],
      "execution_count": null,
      "outputs": [
        {
          "output_type": "display_data",
          "data": {
            "image/png": "[encoded data removed]",
            "text/plain": [
              "<Figure size 432x288 with 1 Axes>"
            ]
          },
          "metadata": {
            "tags": [],
            "needs_background": "light"
          }
        },
        {
          "output_type": "display_data",
          "data": {
            "image/png": "[encoded data removed]",
            "text/plain": [
              "<Figure size 432x288 with 1 Axes>"
            ]
          },
          "metadata": {
            "tags": [],
            "needs_background": "light"
          }
        }
      ]
    },
    {
      "cell_type": "markdown",
      "metadata": {
        "id": "yzhF5miAqA02"
      },
      "source": [
        "What happens if you don't use `plt.show()` after the first figure? Both variables will be plotted in the same figure:"
      ]
    },
    {
      "cell_type": "markdown",
      "metadata": {
        "id": "KWBAtkc6g4u4"
      },
      "source": [
        "#### Adding a Legend\n",
        "\n",
        "A legend is an area describing the elements of the graph. In the `matplotlib` library, there’s a function called `.legend()` which is used to place a legend on the axes, as follows:"
      ]
    },
    {
      "cell_type": "code",
      "metadata": {
        "id": "Pdx3kDiXXM_N",
        "colab": {
          "base_uri": "https://localhost:8080/",
          "height": 264
        },
        "outputId": "f08b4a06-1f26-4910-c511-8952808e2e7f"
      },
      "source": [
        "#Instead of creating a separate image for points2, it displays both the plots in the same figure \n",
        "# (both share the same axes)\n",
        "plt.plot(x.work_force, x.income, color=\"r\", label = 'work_force') \n",
        "plt.plot(x.physicians, x.income, label='physicians') \n",
        "\n",
        "# Adding a legend\n",
        "plt.legend()\n",
        "\n",
        "plt.show()"
      ],
      "execution_count": null,
      "outputs": [
        {
          "output_type": "display_data",
          "data": {
            "image/png": "[encoded data removed]",
            "text/plain": [
              "<Figure size 432x288 with 1 Axes>"
            ]
          },
          "metadata": {
            "tags": [],
            "needs_background": "light"
          }
        }
      ]
    },
    {
      "cell_type": "markdown",
      "metadata": {
        "id": "fGfDhL0QXM_Q"
      },
      "source": [
        "### 1.7. Multiple plots in one figure using `Matplotlib`\n",
        "We can make multiple graphics in one figure. This goes very well for comparing charts or for sharing data from several types of charts easily with a single image.\n",
        "\n",
        "The `.subplot()` method is used to add multiple plots in one figure. It takes three arguments: \n",
        "1. `nrows`: number of rows in the figure\n",
        "2. `ncols`: number of columns in the figure\n",
        "3. `index`: index of the plot\n",
        "\n",
        "Let's see how variables are plotted with different row and column configurations in the figures."
      ]
    },
    {
      "cell_type": "markdown",
      "metadata": {
        "id": "fz29wWQnqA0_"
      },
      "source": [
        "#### 1 row and 2 columns"
      ]
    },
    {
      "cell_type": "code",
      "metadata": {
        "id": "7NUKqHsIXM_R",
        "colab": {
          "base_uri": "https://localhost:8080/",
          "height": 294
        },
        "outputId": "e463aad0-f039-42b4-d4c9-83130f56df99"
      },
      "source": [
        "plt.subplot(1,2,1)  # row, column, index\n",
        "plt.plot(x.work_force, x.income, \"go\")\n",
        "plt.title(\"Income vs Work Force\")\n",
        "\n",
        "## plt.subplot(1,2,2) # row, column, index\n",
        "plt.subplot(1,2,2).label_outer()\n",
        "\n",
        "plt.plot(x.hospital_beds, x.income, \"r^\")\n",
        "plt.title(\"Income vs Hospital Beds\")\n",
        "\n",
        "plt.suptitle(\"Sub Plots\") # Add a centered title to the figure.\n",
        "plt.show()"
      ],
      "execution_count": null,
      "outputs": [
        {
          "output_type": "display_data",
          "data": {
            "image/png": "[encoded data removed]",
            "text/plain": [
              "<Figure size 432x288 with 2 Axes>"
            ]
          },
          "metadata": {
            "tags": [],
            "needs_background": "light"
          }
        }
      ]
    },
    {
      "cell_type": "markdown",
      "metadata": {
        "id": "kZu8F9LYqA1H"
      },
      "source": [
        "#### 2 rows and 1 column"
      ]
    },
    {
      "cell_type": "code",
      "metadata": {
        "id": "u62bOx6sXM_T",
        "colab": {
          "base_uri": "https://localhost:8080/",
          "height": 294
        },
        "outputId": "e19ad76e-f9f7-4662-c49d-4d2dfe62c7ba"
      },
      "source": [
        "plt.subplot(2,1,1) # row, column, index\n",
        "plt.plot(x.work_force, x.income, \"go\")\n",
        "\n",
        "plt.subplot(2,1,2) # row, column, index\n",
        "plt.plot(x.hospital_beds, x.income, \"r^\")\n",
        "\n",
        "plt.suptitle(\"Sub Plots\")\n",
        "plt.show()"
      ],
      "execution_count": null,
      "outputs": [
        {
          "output_type": "display_data",
          "data": {
            "image/png": "[encoded data removed]",
            "text/plain": [
              "<Figure size 432x288 with 2 Axes>"
            ]
          },
          "metadata": {
            "tags": [],
            "needs_background": "light"
          }
        }
      ]
    },
    {
      "cell_type": "markdown",
      "metadata": {
        "id": "0f5HvLsHqA1U"
      },
      "source": [
        "#### 2 rows and 2 columns"
      ]
    },
    {
      "cell_type": "code",
      "metadata": {
        "id": "bvLq_xMHXM_W",
        "colab": {
          "base_uri": "https://localhost:8080/",
          "height": 374
        },
        "outputId": "9e46c3ab-3c62-4726-dce7-7d2d99146124"
      },
      "source": [
        "fig, ax = plt.subplots(nrows=2, ncols=2, figsize=(6,6)) #creating a grid of 2 rows, 2 columns and 6x6 figure size\n",
        "ax[0,0].plot(x.work_force, x.income, \"go\") # The top-left axes\n",
        "ax[0,1].plot(x.work_force, x.income, \"bo\") # The top-right axes\n",
        "ax[1,0].plot(x.work_force, x.income, \"yo\") # The bottom-left axes\n",
        "ax[1,1].plot(x.work_force, x.income, \"ro\") # The bottom-right axes\n",
        "\n",
        "plt.show()"
      ],
      "execution_count": null,
      "outputs": [
        {
          "output_type": "display_data",
          "data": {
            "image/png": "[encoded data removed]",
            "text/plain": [
              "<Figure size 432x432 with 4 Axes>"
            ]
          },
          "metadata": {
            "tags": [],
            "needs_background": "light"
          }
        }
      ]
    },
    {
      "cell_type": "markdown",
      "metadata": {
        "id": "pU1pVFoJg4wj"
      },
      "source": [
        "As you have been able to detail, with the function `.subplots (nrows, ncols)` you can generalize the plotting in multiple locations of the figure."
      ]
    },
    {
      "cell_type": "markdown",
      "metadata": {
        "id": "lR9-zdiFXM_m"
      },
      "source": [
        "### 1.8. Histogram using `Matplotlib`\n",
        "\n",
        "Matplotlib can be used to create histograms using the hist() method. A histogram shows the frequency on the vertical axis and the horizontal axis is another dimension. Usually it has bins, where every bin has a minimum and maximum value. Each bin also has a frequency between x and infinite\n",
        "\n",
        "Histograms are a very common type of plots when we are looking at data like height and weight, stock prices, waiting time for a customer, etc which are continuous in nature. \n",
        "\n",
        "Parameters:\n",
        "- x(n,) : this takes either a single array or a sequence of arrays which are not required to be of the same length.\n",
        "- bins : If bins is an integer, it defines the number of equal-width bins in the range.\n",
        "\n",
        "    If bins is a sequence, it defines the bin edges, including the left edge of the first bin and the right edge \n",
        "    of the last bin; in this case, bins may be unequally spaced. All but the last (righthand-most) bin is half-\n",
        "    open. \n",
        "\n",
        "    In other words, if bins is:\n",
        "\n",
        "    [1, 2, 3, 4]\n",
        "\n",
        "    then the first bin is [1, 2) (including 1, but excluding 2) and the second [2, 3). The last bin, however, is \n",
        "    [3, 4], which includes 4.\n",
        "\n",
        "    If bins is a string, it is one of the binning strategies supported by numpy.histogram_bin_edges: 'auto', 'fd', \n",
        "    'doane', 'scott', 'stone', 'rice', 'sturges', or 'sqrt'.\n",
        "\n",
        "    The default is rcParams[\"hist.bins\"] (default: 10)."
      ]
    },
    {
      "cell_type": "code",
      "metadata": {
        "id": "9rG9TOXXXM_n",
        "colab": {
          "base_uri": "https://localhost:8080/",
          "height": 295
        },
        "outputId": "26ada251-2181-4c6a-98a4-b53e3e13be00"
      },
      "source": [
        "plt.title(\"Histogram\")\n",
        "plt.xlabel(\"Percentage of Senior Citizens\")\n",
        "plt.ylabel(\"Frequency\")\n",
        "\n",
        "plt.hist(x.percent_senior)\n",
        "plt.show()"
      ],
      "execution_count": null,
      "outputs": [
        {
          "output_type": "display_data",
          "data": {
            "image/png": "[encoded data removed]",
            "text/plain": [
              "<Figure size 432x288 with 1 Axes>"
            ]
          },
          "metadata": {
            "tags": [],
            "needs_background": "light"
          }
        }
      ]
    },
    {
      "cell_type": "markdown",
      "metadata": {
        "id": "TGwBnBzhXM_p"
      },
      "source": [
        "### 1.9. Additional resources\n",
        "\n",
        "https://www.datacamp.com/community/tutorials/matplotlib-tutorial-python\n",
        "\n",
        "https://appdividend.com/2019/01/26/matplotlib-tutorial-with-example-python-jupyter-notebook-course/"
      ]
    },
    {
      "cell_type": "markdown",
      "metadata": {
        "id": "cruYYRKFXM_q"
      },
      "source": [
        "## 2. Seaborn\n",
        "\n",
        "`Seaborn` is a Python data visualization library based on `Matplotlib`. It provides a high-level interface for creating attractive graphs, and statistical data visualization. \n",
        "\n",
        "Seaborn has a lot to offer. You can create graphs in one line that would take you multiple tens of lines in `Matplotlib`. Its standard designs are awesome and it also has a nice interface for working with pandas dataframes.\n",
        "\n",
        "In the following sections we will review how to graph with `seaborn`"
      ]
    },
    {
      "cell_type": "markdown",
      "metadata": {
        "id": "vZchNoVRqA2T"
      },
      "source": [
        "### 2.1. Importing seaborn"
      ]
    },
    {
      "cell_type": "code",
      "metadata": {
        "id": "2RkOVu34qA2U",
        "colab": {
          "base_uri": "https://localhost:8080/",
          "height": 51
        },
        "outputId": "e3d009f1-f1a4-4dd8-9156-b7354a70c24e"
      },
      "source": [
        "import seaborn as sns"
      ],
      "execution_count": null,
      "outputs": [
        {
          "output_type": "stream",
          "text": [
            "/usr/local/lib/python3.6/dist-packages/statsmodels/tools/_testing.py:19: FutureWarning: pandas.util.testing is deprecated. Use the functions in the public API at pandas.testing instead.\n",
            "  import pandas.util.testing as tm\n"
          ],
          "name": "stderr"
        }
      ]
    },
    {
      "cell_type": "markdown",
      "metadata": {
        "id": "04YAWIv6qA2Z"
      },
      "source": [
        "### 2.2. Loading data with seaborn"
      ]
    },
    {
      "cell_type": "code",
      "metadata": {
        "id": "2tpJk49BXM_q",
        "colab": {
          "base_uri": "https://localhost:8080/",
          "height": 346
        },
        "outputId": "bcdb909b-2323-4db6-bf5d-32d061ed3607"
      },
      "source": [
        "# Load iris data\n",
        "iris = sns.load_dataset(\"iris\")\n",
        "\n",
        "iris.sample(10)"
      ],
      "execution_count": null,
      "outputs": [
        {
          "output_type": "execute_result",
          "data": {
            "text/html": [
              "<div>\n",
              "<style scoped>\n",
              "    .dataframe tbody tr th:only-of-type {\n",
              "        vertical-align: middle;\n",
              "    }\n",
              "\n",
              "    .dataframe tbody tr th {\n",
              "        vertical-align: top;\n",
              "    }\n",
              "\n",
              "    .dataframe thead th {\n",
              "        text-align: right;\n",
              "    }\n",
              "</style>\n",
              "<table border=\"1\" class=\"dataframe\">\n",
              "  <thead>\n",
              "    <tr style=\"text-align: right;\">\n",
              "      <th></th>\n",
              "      <th>sepal_length</th>\n",
              "      <th>sepal_width</th>\n",
              "      <th>petal_length</th>\n",
              "      <th>petal_width</th>\n",
              "      <th>species</th>\n",
              "    </tr>\n",
              "  </thead>\n",
              "  <tbody>\n",
              "    <tr>\n",
              "      <th>22</th>\n",
              "      <td>4.6</td>\n",
              "      <td>3.6</td>\n",
              "      <td>1.0</td>\n",
              "      <td>0.2</td>\n",
              "      <td>setosa</td>\n",
              "    </tr>\n",
              "    <tr>\n",
              "      <th>112</th>\n",
              "      <td>6.8</td>\n",
              "      <td>3.0</td>\n",
              "      <td>5.5</td>\n",
              "      <td>2.1</td>\n",
              "      <td>virginica</td>\n",
              "    </tr>\n",
              "    <tr>\n",
              "      <th>116</th>\n",
              "      <td>6.5</td>\n",
              "      <td>3.0</td>\n",
              "      <td>5.5</td>\n",
              "      <td>1.8</td>\n",
              "      <td>virginica</td>\n",
              "    </tr>\n",
              "    <tr>\n",
              "      <th>84</th>\n",
              "      <td>5.4</td>\n",
              "      <td>3.0</td>\n",
              "      <td>4.5</td>\n",
              "      <td>1.5</td>\n",
              "      <td>versicolor</td>\n",
              "    </tr>\n",
              "    <tr>\n",
              "      <th>18</th>\n",
              "      <td>5.7</td>\n",
              "      <td>3.8</td>\n",
              "      <td>1.7</td>\n",
              "      <td>0.3</td>\n",
              "      <td>setosa</td>\n",
              "    </tr>\n",
              "    <tr>\n",
              "      <th>111</th>\n",
              "      <td>6.4</td>\n",
              "      <td>2.7</td>\n",
              "      <td>5.3</td>\n",
              "      <td>1.9</td>\n",
              "      <td>virginica</td>\n",
              "    </tr>\n",
              "    <tr>\n",
              "      <th>7</th>\n",
              "      <td>5.0</td>\n",
              "      <td>3.4</td>\n",
              "      <td>1.5</td>\n",
              "      <td>0.2</td>\n",
              "      <td>setosa</td>\n",
              "    </tr>\n",
              "    <tr>\n",
              "      <th>71</th>\n",
              "      <td>6.1</td>\n",
              "      <td>2.8</td>\n",
              "      <td>4.0</td>\n",
              "      <td>1.3</td>\n",
              "      <td>versicolor</td>\n",
              "    </tr>\n",
              "    <tr>\n",
              "      <th>135</th>\n",
              "      <td>7.7</td>\n",
              "      <td>3.0</td>\n",
              "      <td>6.1</td>\n",
              "      <td>2.3</td>\n",
              "      <td>virginica</td>\n",
              "    </tr>\n",
              "    <tr>\n",
              "      <th>117</th>\n",
              "      <td>7.7</td>\n",
              "      <td>3.8</td>\n",
              "      <td>6.7</td>\n",
              "      <td>2.2</td>\n",
              "      <td>virginica</td>\n",
              "    </tr>\n",
              "  </tbody>\n",
              "</table>\n",
              "</div>"
            ],
            "text/plain": [
              "     sepal_length  sepal_width  petal_length  petal_width     species\n",
              "22            4.6          3.6           1.0          0.2      setosa\n",
              "112           6.8          3.0           5.5          2.1   virginica\n",
              "116           6.5          3.0           5.5          1.8   virginica\n",
              "84            5.4          3.0           4.5          1.5  versicolor\n",
              "18            5.7          3.8           1.7          0.3      setosa\n",
              "111           6.4          2.7           5.3          1.9   virginica\n",
              "7             5.0          3.4           1.5          0.2      setosa\n",
              "71            6.1          2.8           4.0          1.3  versicolor\n",
              "135           7.7          3.0           6.1          2.3   virginica\n",
              "117           7.7          3.8           6.7          2.2   virginica"
            ]
          },
          "metadata": {
            "tags": []
          },
          "execution_count": 21
        }
      ]
    },
    {
      "cell_type": "markdown",
      "metadata": {
        "id": "DlQilpP0qA2n"
      },
      "source": [
        "### 2.3. Scatter Plot using `Seaborn`"
      ]
    },
    {
      "cell_type": "code",
      "metadata": {
        "id": "lZQav-PwXM_1",
        "colab": {
          "base_uri": "https://localhost:8080/",
          "height": 282
        },
        "outputId": "8fa847be-4297-45d3-df40-d5f34607e110"
      },
      "source": [
        "sns.scatterplot(x='sepal_length', y='sepal_width', data=iris)\n",
        "plt.show()"
      ],
      "execution_count": null,
      "outputs": [
        {
          "output_type": "display_data",
          "data": {
            "image/png": "[encoded data removed]",
            "text/plain": [
              "<Figure size 432x288 with 1 Axes>"
            ]
          },
          "metadata": {
            "tags": [],
            "needs_background": "light"
          }
        }
      ]
    },
    {
      "cell_type": "markdown",
      "metadata": {
        "id": "dsDMoRZlqA2j"
      },
      "source": [
        "### 2.4. Swarm Plot using `Seaborn`"
      ]
    },
    {
      "cell_type": "code",
      "metadata": {
        "id": "6lvOpwZoXM_u",
        "colab": {
          "base_uri": "https://localhost:8080/",
          "height": 279
        },
        "outputId": "ad49bec7-703d-4323-b535-402514cecf6e"
      },
      "source": [
        "# Construct swarm plot for sepcies vs petal_length\n",
        "sns.swarmplot(x=\"species\", y=\"petal_length\", data=iris)\n",
        "\n",
        "# Show plot\n",
        "plt.show()"
      ],
      "execution_count": null,
      "outputs": [
        {
          "output_type": "display_data",
          "data": {
            "image/png": "[encoded data removed]",
            "text/plain": [
              "<Figure size 432x288 with 1 Axes>"
            ]
          },
          "metadata": {
            "tags": [],
            "needs_background": "light"
          }
        }
      ]
    },
    {
      "cell_type": "markdown",
      "metadata": {
        "id": "BvBEKDMwqA2t"
      },
      "source": [
        "### 2.5. Heatmap using `Seaborn`"
      ]
    },
    {
      "cell_type": "markdown",
      "metadata": {
        "id": "oqDG_LsUqA2u"
      },
      "source": [
        "A Heatmap is a graphical representation of data where the individual values contained in a matrix are represented as colors.\n",
        "\n",
        "Seaborn heatmaps are appealing to the eyes, and they tend to send clear messages about data almost immediately. This is why this method for correlation matrix visualization ( exploring the correlation of features in a dataset) is widely used by data analysts and data scientists alike.\n",
        "\n",
        "Correlation is a measure of the strength of a linear relationship between two quantitative variables. \n",
        "(We'll study more about correlation in the upcoming week)\n",
        "\n",
        "To get the correlation of the features inside a dataset we can call <dataset>.corr(), which is a Pandas dataframe method. This will give us the correlation matrix."
      ]
    },
    {
      "cell_type": "code",
      "metadata": {
        "id": "3HgTdZRKqA2v",
        "colab": {
          "base_uri": "https://localhost:8080/",
          "height": 269
        },
        "outputId": "c70c6bdf-976d-4a81-d15a-82946969fd25"
      },
      "source": [
        "# Correlation matrix completely ignores any non-numeric column. \n",
        "sns.heatmap(iris.corr(), annot=True)\n",
        "plt.show()"
      ],
      "execution_count": null,
      "outputs": [
        {
          "output_type": "display_data",
          "data": {
            "image/png": "[encoded data removed]",
            "text/plain": [
              "<Figure size 432x288 with 2 Axes>"
            ]
          },
          "metadata": {
            "tags": [],
            "needs_background": "light"
          }
        }
      ]
    },
    {
      "cell_type": "markdown",
      "metadata": {
        "id": "AK1QAkGPwmBV"
      },
      "source": [
        "- Each square shows the correlation between the variables on each axis. \n",
        "- Correlation ranges from -1 to +1. \n",
        "- Values closer to zero means there is no linear trend between the two variables. \n",
        "- The more close to 1 the correlation is the more positively correlated they are; that is as one increases so does the other. \n",
        "- A correlation closer to -1 is similar, but instead of both increasing one variable will decrease as the other increases."
      ]
    },
    {
      "cell_type": "markdown",
      "metadata": {
        "id": "X24Td_Dq_4iQ"
      },
      "source": [
        "_That's it with the basic Matplotlib and Seaborn commands. Let out your creativity and make beautiful, insightful plots!_"
      ]
    },
    {
      "cell_type": "markdown",
      "metadata": {
        "id": "smQYW58WfXer"
      },
      "source": [
        "## 3. Optional - Additional Reading"
      ]
    },
    {
      "cell_type": "markdown",
      "metadata": {
        "id": "bomCmrO3XM_Y"
      },
      "source": [
        "### 3.1. Bar Chart using `Matplotlib` \n",
        "\n",
        "Bar charts are one of the most common types of graphs and are used to show data associated with the categorical variables.\n",
        "\n",
        "`Pyplot` provides a `bar()` method to make bar graphs which take the following arguments: categorical variables, their values and color (if you want to specify any). Let's see some ways to display a bar graph with `matplotlib`:"
      ]
    },
    {
      "cell_type": "markdown",
      "metadata": {
        "id": "6108eBfF5AB0"
      },
      "source": [
        "![Horizontal and Vertical Bar Charts](https://depictdatastudio.com/wp-content/uploads/2017/01/Depict-Data-Studio_Bar-Charts_Vertical-or-Horizontal.jpg)\n",
        "\n",
        "<div style=\"font-size: 12px\", align=\"center\">\n",
        "    Figure 3. Horizontal and Vertical Bar Charts\n",
        "</div >"
      ]
    },
    {
      "cell_type": "markdown",
      "metadata": {
        "id": "0Yv0p6G7qA1g"
      },
      "source": [
        "####  Vertical Bar Charts"
      ]
    },
    {
      "cell_type": "code",
      "metadata": {
        "id": "vepzkE6wXM_Z",
        "colab": {
          "base_uri": "https://localhost:8080/",
          "height": 295
        },
        "outputId": "8f9690d6-d191-4aa1-b498-6b6fecd1f102"
      },
      "source": [
        "plt.bar(x.region, x.crime_rate, color=\"green\")\n",
        "\n",
        "plt.title(\"Bar Graph\")\n",
        "plt.xlabel(\"Region\")\n",
        "plt.ylabel(\"Crime Rate\")\n",
        "plt.show()"
      ],
      "execution_count": null,
      "outputs": [
        {
          "output_type": "display_data",
          "data": {
            "image/png": "[encoded data removed]",
            "text/plain": [
              "<Figure size 432x288 with 1 Axes>"
            ]
          },
          "metadata": {
            "tags": [],
            "needs_background": "light"
          }
        }
      ]
    },
    {
      "cell_type": "markdown",
      "metadata": {
        "id": "cSVr546LqA1n"
      },
      "source": [
        "#### Horizontal Bar Charts"
      ]
    },
    {
      "cell_type": "markdown",
      "metadata": {
        "id": "s1wI36WOqA1o"
      },
      "source": [
        "It’s also really simple to make a horizontal bar-chart using the plot.barh() method."
      ]
    },
    {
      "cell_type": "code",
      "metadata": {
        "id": "HIDWcbB-XM_b",
        "colab": {
          "base_uri": "https://localhost:8080/",
          "height": 280
        },
        "outputId": "e19785e3-dcc2-4c9e-c846-655a361dd663"
      },
      "source": [
        "plt.barh(x.region, x.crime_rate, color=\"green\")\n",
        "plt.title(\"Bar Graph\")\n",
        "plt.show()"
      ],
      "execution_count": null,
      "outputs": [
        {
          "output_type": "display_data",
          "data": {
            "image/png": "[encoded data removed]",
            "text/plain": [
              "<Figure size 432x288 with 1 Axes>"
            ]
          },
          "metadata": {
            "tags": [],
            "needs_background": "light"
          }
        }
      ]
    },
    {
      "cell_type": "markdown",
      "metadata": {
        "id": "zVU6J5RGqA1w"
      },
      "source": [
        "####  Bar Charts with multiple quantities"
      ]
    },
    {
      "cell_type": "markdown",
      "metadata": {
        "id": "4zEEGcvEqA1x"
      },
      "source": [
        "When comparing several quantities and when changing one variable, we might want a bar chart where we have bars of one color for one quantity value.\n",
        "\n",
        "We can plot multiple bar charts by playing with the thickness and the positions of the bars."
      ]
    },
    {
      "cell_type": "code",
      "metadata": {
        "id": "MB0aTBfoXM_e",
        "colab": {
          "base_uri": "https://localhost:8080/",
          "height": 295
        },
        "outputId": "6eb077a0-388b-4b76-e07b-42f71895da42"
      },
      "source": [
        "divisions = [\"A\", \"B\", \"C\", \"D\", \"E\"]\n",
        "division_avg = [70, 82, 73, 65, 68]\n",
        "boys_avg = [68, 67, 77, 61, 70]\n",
        "\n",
        "# Using the NumPy arange function to generate values for index between 0-4.\n",
        "# Here,stop is 5, start is 0, and step is 1\n",
        "index = np.arange(5) \n",
        "width = 0.30\n",
        "\n",
        "plt.bar(index, division_avg, width, color=\"green\", label=\"Division Marks\")\n",
        "plt.bar(index+width, boys_avg, width, color=\"blue\", label=\"Boys Marks\")\n",
        "\n",
        "plt.title(\"Bar Graph\")\n",
        "plt.xlabel(\"Divisions\")\n",
        "plt.ylabel(\"Marks\")\n",
        "plt.show()"
      ],
      "execution_count": null,
      "outputs": [
        {
          "output_type": "display_data",
          "data": {
            "image/png": "[encoded data removed]",
            "text/plain": [
              "<Figure size 432x288 with 1 Axes>"
            ]
          },
          "metadata": {
            "tags": [],
            "needs_background": "light"
          }
        }
      ]
    },
    {
      "cell_type": "markdown",
      "metadata": {
        "id": "hgBp9bs-qA14"
      },
      "source": [
        "####  Stacked Bar Chart"
      ]
    },
    {
      "cell_type": "markdown",
      "metadata": {
        "id": "XSQTQkJHqA17"
      },
      "source": [
        "The stacked bar chart stacks bars that represent different groups on top of each other. The height of the resulting bar shows the combined result of the groups.\n",
        "\n",
        "The optional bottom parameter of the pyplot.bar() function allows you to specify a starting value for a bar. Instead of running from zero to a value, it will go from the bottom to the value. The first call to pyplot.bar() plots the blue bars. The second call to pyplot.bar() plots the green bars, with the bottom of the blue bars being at the top of the green bars."
      ]
    },
    {
      "cell_type": "code",
      "metadata": {
        "id": "5KUmyUHKXM_h",
        "colab": {
          "base_uri": "https://localhost:8080/",
          "height": 295
        },
        "outputId": "10e6b02a-1a5e-4363-ca5d-31b413f0fa58"
      },
      "source": [
        "divisions = [\"A\", \"B\", \"C\", \"D\", \"E\"]\n",
        "girls_avg = [72, 97, 69, 69, 66]\n",
        "boys_avg = [68, 67, 77, 61, 70]\n",
        "\n",
        "index = np.arange(5)\n",
        "width = 0.50\n",
        "\n",
        "plt.bar(index, boys_avg, width, color=\"green\", label=\"Boys Marks\")\n",
        "plt.bar(index, girls_avg, width, color=\"blue\", label=\"Girls Marks\", bottom=boys_avg)\n",
        "\n",
        "plt.title(\"Bar Graph\")\n",
        "plt.xlabel(\"Divisions\")\n",
        "plt.ylabel(\"Marks\")\n",
        "plt.show()"
      ],
      "execution_count": null,
      "outputs": [
        {
          "output_type": "display_data",
          "data": {
            "image/png": "[encoded data removed]",
            "text/plain": [
              "<Figure size 432x288 with 1 Axes>"
            ]
          },
          "metadata": {
            "tags": [],
            "needs_background": "light"
          }
        }
      ]
    },
    {
      "cell_type": "markdown",
      "metadata": {
        "id": "Ar-8zmQ8XM_j"
      },
      "source": [
        "### 3.2. Pie Chart using `Matplotlib`\n",
        "One more basic type of chart is a Pie chart which can be made using the method pie().\n",
        "\n",
        "Pie charts show the size of items (called wedge) in one data series, proportional to the sum of the items. The data points in a pie chart are shown as a percentage of the whole pie\n",
        "\n",
        "Parameters of a pie chart:\n",
        "- x: array-like. The wedge sizes.\n",
        "- labels: list. A sequence of strings providing the labels for each wedge.\n",
        "- Colors: A sequence of matplotlibcolorargs through which the pie chart will cycle. If None, will use the colors in the currently active cycle.\n",
        "- Autopct: string, used to label the wedges with their numeric value. The label will be placed inside the wedge. The format string will be fmt%pct.\n",
        "\n",
        "We can also pass in arguments to customize our Pie chart to show shadow, explode a part of it, tilt it at an angle as follows:"
      ]
    },
    {
      "cell_type": "code",
      "metadata": {
        "id": "Lv8yMWLWXM_k",
        "colab": {
          "base_uri": "https://localhost:8080/",
          "height": 250
        },
        "outputId": "01690e27-9517-47df-a694-f7f72ecfaa90"
      },
      "source": [
        "firms = [\"Firm A\", \"Firm B\", \"Firm C\", \"Firm D\", \"Firm E\"]\n",
        "market_share = [20,25,15,10,20]\n",
        "\n",
        "# Explode the pie chart to emphasize a certain part or some parts( Firm B in this case) \n",
        "# It is useful because it makes the highlighted portion more visible.\n",
        "Explode = [0,0.1,0,0,0] \n",
        "\n",
        "plt.pie(market_share, explode=Explode, labels=firms, autopct='%1.1f%%', startangle=45)\n",
        "\n",
        "plt.axis('equal') # Equal aspect ratio ensures that pie is drawn as a circle.\n",
        "\n",
        "plt.legend(title=\"List of Firms\")\n",
        "\n",
        "plt.show()"
      ],
      "execution_count": null,
      "outputs": [
        {
          "output_type": "display_data",
          "data": {
            "image/png": "[encoded data removed]",
            "text/plain": [
              "<Figure size 432x288 with 1 Axes>"
            ]
          },
          "metadata": {
            "tags": []
          }
        }
      ]
    }
  ]
}